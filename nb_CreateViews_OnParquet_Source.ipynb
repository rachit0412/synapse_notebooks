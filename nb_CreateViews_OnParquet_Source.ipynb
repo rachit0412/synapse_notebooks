{
  "cells": [
    {
      "cell_type": "code",
      "execution_count": 1,
      "metadata": {
        "collapsed": true,
        "jupyter": {
          "outputs_hidden": false,
          "source_hidden": false
        },
        "nteract": {
          "transient": {
            "deleting": false
          }
        }
      },
      "outputs": [],
      "source": [
        "from pyspark.sql import SparkSession\n",
        "import pyodbc"
      ]
    },
    {
      "cell_type": "code",
      "execution_count": null,
      "metadata": {
        "collapsed": true,
        "jupyter": {
          "outputs_hidden": false,
          "source_hidden": false
        },
        "nteract": {
          "transient": {
            "deleting": false
          }
        },
        "tags": [
          "parameters"
        ]
      },
      "outputs": [],
      "source": [
        "# Configure environment as parameter (pr for production)\n",
        "env = 'td'"
      ]
    },
    {
      "cell_type": "code",
      "execution_count": null,
      "metadata": {},
      "outputs": [],
      "source": [
        "storage_account = 'sa'+env+'gdwh'\n",
        "keyvault_name = 'KV-'+env.upper()+'-WEU-GDWH'\n",
        "accesskey_secret_name = 'secret-accesskey-dls'+env+'gdwh'\n",
        "keyvault_linkedservice_name = 'ls_KV_WEU_GDWH'\n",
        "\n",
        "if env == 'td':\n",
        "   masterdata_sourcefolder = '<source_system>/data/ST2300/MD/'\n",
        "   transactionaldata_sourcefolder = '<source_system>/data/ST2300/TD/'  \n",
        "elif env == 'pr':\n",
        "   masterdata_sourcefolder = '<source_system>/data/S4P100/MD/' \n",
        "   transactionaldata_sourcefolder = '<source_system>/data/S4P100/TD/'\n",
        "\n",
        "accesskey = mssparkutils.credentials.getSecret(keyvault_name,accesskey_secret_name,keyvault_linkedservice_name)\n",
        "source_folder = 'abfss://enhanced@'+storage_account+'.dfs.core.windows.net/'+masterdata_sourcefolder\n",
        "\n",
        "# Connec to DB\n",
        "server = 'synws-'+env+'-weu-gdwh-ondemand.sql.azuresynapse.net'\n",
        "database = 'Metadata'\n",
        "\n",
        "if env == 'td':\n",
        "   username = 'sqladminuser'  \n",
        "elif env == 'pr':\n",
        "   username = 'sqladminuser'  \n",
        "\n",
        "password_secret_name = 'secret-sqladminuser-synws-'+env+'-weu-gdwh'\n",
        "password = mssparkutils.credentials.getSecret(keyvault_name,password_secret_name,keyvault_linkedservice_name) \n",
        "cnxn_string ='Driver={ODBC Driver 17 for SQL Server};Server=tcp:'+server+',1433;Database='+database+';Uid='+username+';Pwd='+password\n",
        "cnxn = pyodbc.connect(cnxn_string)\n",
        "cursor = cnxn.cursor()\n",
        "\n",
        "# List files in source folder\n",
        "files = mssparkutils.fs.ls(source_folder)\n",
        "\n",
        "# Extract table name from source folder and create external table and view\n",
        "for fi in files: \n",
        "   table_name = fi.name\n",
        "\n",
        "   if table_name == 'DD03L_PR' or table_name == 'DD03L' or  table_name == 'DD03M':\n",
        "      continue\n",
        "\n",
        "   else:\n",
        "      # Define queries\n",
        "      objectexists_query = \"SELECT OBJECT_ID('[DSL].[<source_system>_\"+table_name+\"]','V')\"\n",
        "      exec_statement_vw = \"EXEC [dbo].[CREATE_VIEW_SCRIPT_PARQUET_WITHCOLUMNS] @SCHEMA = 'DSL', @TABLE = '\"+table_name+ \"', @BUSINESSNAMES = 0\"\n",
        "\n",
        "      # Get object_id of view to see if it already exists\n",
        "      cursor.execute(objectexists_query)\n",
        "      object_id = cursor.fetchall() \n",
        "\n",
        "      # Only create view if it does not yet exists\n",
        "      if object_id[0][0] is None:\n",
        "         # Create view\n",
        "         cursor.execute(exec_statement_vw)\n",
        "         cursor.commit()\n",
        "         \n",
        "      else:\n",
        "         print(\"[DSL].[<source_system>_\"+table_name+\"] already exists.\")\n"
      ]
    }
  ],
  "metadata": {
    "kernelspec": {
      "display_name": "Python 3.7.3 64-bit",
      "language": "python",
      "name": "python3"
    },
    "language_info": {
      "name": "python",
      "version": "3.7.3"
    },
    "save_output": true,
    "vscode": {
      "interpreter": {
        "hash": "31f2aee4e71d21fbe5cf8b01ff0e069b9275f58929596ceb00d14d90e3e16cd6"
      }
    }
  },
  "nbformat": 4,
  "nbformat_minor": 2
}
